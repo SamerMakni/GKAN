{
 "cells": [
  {
   "cell_type": "code",
   "execution_count": 2,
   "id": "79ff557f-243f-40a3-b41b-04b948e3c4f4",
   "metadata": {},
   "outputs": [],
   "source": [
    "from gkan import *\n",
    "import torch\n",
    "import random\n",
    "\n",
    "from torch_geometric.datasets import Planetoid\n",
    "import torch_geometric.transforms as T\n",
    "from torch_geometric.utils import *\n",
    "\n",
    "import matplotlib.pyplot as plt\n",
    "import numpy as np"
   ]
  },
  {
   "cell_type": "code",
   "execution_count": 3,
   "id": "6c68e4b9-e25f-4ee1-8f69-69d6ce14d6f7",
   "metadata": {},
   "outputs": [
    {
     "name": "stdout",
     "output_type": "stream",
     "text": [
      "cuda version: 12.1\n",
      "Tue Jul  9 10:35:36 2024       \n",
      "+---------------------------------------------------------------------------------------+\n",
      "| NVIDIA-SMI 535.161.07             Driver Version: 535.161.07   CUDA Version: 12.2     |\n",
      "|-----------------------------------------+----------------------+----------------------+\n",
      "| GPU  Name                 Persistence-M | Bus-Id        Disp.A | Volatile Uncorr. ECC |\n",
      "| Fan  Temp   Perf          Pwr:Usage/Cap |         Memory-Usage | GPU-Util  Compute M. |\n",
      "|                                         |                      |               MIG M. |\n",
      "|=========================================+======================+======================|\n",
      "|   0  NVIDIA TITAN RTX               Off | 00000000:0B:00.0 Off |                  N/A |\n",
      "| 41%   48C    P2              64W / 280W |   8057MiB / 24576MiB |      5%      Default |\n",
      "|                                         |                      |                  N/A |\n",
      "+-----------------------------------------+----------------------+----------------------+\n",
      "|   1  NVIDIA TITAN RTX               Off | 00000000:11:00.0 Off |                  N/A |\n",
      "| 44%   65C    P2              68W / 280W |    233MiB / 24576MiB |      5%      Default |\n",
      "|                                         |                      |                  N/A |\n",
      "+-----------------------------------------+----------------------+----------------------+\n",
      "                                                                                         \n",
      "+---------------------------------------------------------------------------------------+\n",
      "| Processes:                                                                            |\n",
      "|  GPU   GI   CI        PID   Type   Process name                            GPU Memory |\n",
      "|        ID   ID                                                             Usage      |\n",
      "|=======================================================================================|\n",
      "+---------------------------------------------------------------------------------------+\n"
     ]
    }
   ],
   "source": [
    "print('cuda version: {}'.format(torch.version.cuda))\n",
    "with torch.no_grad():\n",
    "    torch.cuda.empty_cache()\n",
    "!nvidia-smi"
   ]
  },
  {
   "cell_type": "code",
   "execution_count": 4,
   "id": "178962a8-ed3a-4e8f-8cd9-b98145ff60b8",
   "metadata": {
    "scrolled": true
   },
   "outputs": [],
   "source": [
    "device = torch.device('cuda' if torch.cuda.is_available() else 'cpu')\n",
    "device = 'cuda:1'"
   ]
  },
  {
   "cell_type": "markdown",
   "id": "a7e76343-58d4-4a03-8295-d47e250fc875",
   "metadata": {},
   "source": [
    "### **Loading Cora Data**"
   ]
  },
  {
   "cell_type": "code",
   "execution_count": 5,
   "id": "6c824938-a7a0-49bd-b1f7-627354ba30ab",
   "metadata": {},
   "outputs": [],
   "source": [
    "# seed for randomizing the process\n",
    "path = './temp'\n",
    "seed = 17\n",
    "\n",
    "random.seed(seed)\n",
    "np.random.seed(seed)\n",
    "torch.manual_seed(seed)\n",
    "if torch.cuda.is_available():\n",
    "    torch.cuda.manual_seed(seed)\n",
    "    torch.cuda.manual_seed_all(seed)\n",
    "\n",
    "transform = T.Compose([T.NormalizeFeatures()])\n",
    "\n",
    "dataset = Planetoid(path, 'Cora', transform=transform)[0]\n",
    "dataset = dataset.to(device)"
   ]
  },
  {
   "cell_type": "markdown",
   "id": "a569a983-1771-4765-8648-60646b4821f1",
   "metadata": {},
   "source": [
    "#### **Model params**"
   ]
  },
  {
   "cell_type": "code",
   "execution_count": 6,
   "id": "a783c5ef-ff15-46f0-b0f0-615eed691ca2",
   "metadata": {},
   "outputs": [],
   "source": [
    "hidden_size = 128\n",
    "grid_size = 20\n",
    "n_layers = 1\n",
    "epochs = 20\n",
    "learning_rate = 0.009\n",
    "#kan_layer = 'KAN'\n",
    "kan_layer = 'KAN' # or fourierKAN, fastKAN, KAN. chebKAN is currently the fastest to train\n",
    "forward_architecture = 1 #1 for aggregate then apply KAN layer, 2 for the opposite\n",
    "b_spline_order=32"
   ]
  },
  {
   "cell_type": "markdown",
   "id": "256ee0cf-e048-468b-9a75-0fd44c2c3219",
   "metadata": {},
   "source": [
    "### **Load the Model**"
   ]
  },
  {
   "cell_type": "code",
   "execution_count": 7,
   "id": "c932e2a7-fcdf-4dec-9932-9d093571c73d",
   "metadata": {},
   "outputs": [],
   "source": [
    "model = GKAN(dataset=dataset, hidden_dim=hidden_size, \n",
    "             grid_size=grid_size,\n",
    "             kan_out_dim=32,\n",
    "             num_layers=n_layers,\n",
    "             kan_layer_type=kan_layer,\n",
    "             use_bias=False,\n",
    "             aggregation_method=forward_architecture,\n",
    "             order=b_spline_order\n",
    "             ).to(device)"
   ]
  },
  {
   "cell_type": "markdown",
   "id": "efbfbb97-1fc1-47cc-823a-eb93aea1d598",
   "metadata": {},
   "source": [
    "### **Train the Model**"
   ]
  },
  {
   "cell_type": "code",
   "execution_count": 8,
   "id": "01a78555-1154-4a41-aece-546404b5f681",
   "metadata": {},
   "outputs": [
    {
     "name": "stdout",
     "output_type": "stream",
     "text": [
      "Epoch: 0000, Train Loss: 1.9457, Train Accuracy: 0.1357, Validation Accuracy: 0.4280, Test Accuracy: 0.4570\n",
      "Epoch: 0010, Train Loss: 0.6440, Train Accuracy: 0.9857, Validation Accuracy: 0.7360, Test Accuracy: 0.7320\n",
      "Epoch: 0019, Train Loss: 0.1569, Train Accuracy: 1.0000, Validation Accuracy: 0.7100, Test Accuracy: 0.7200\n"
     ]
    }
   ],
   "source": [
    "optimizer = torch.optim.Adam(model.parameters(), lr=0.01, weight_decay=5e-4)\n",
    "train_losses = []\n",
    "train_accuracies = []\n",
    "validation_accuracies = []\n",
    "test_accuracies = []\n",
    "\n",
    "for epoch in range(epochs):\n",
    "    train_accuracy, train_loss = train(model, optimizer, dataset)\n",
    "    \n",
    "    predictions = evaluate(model, dataset)\n",
    "    \n",
    "    train_acc = torch.eq(predictions[dataset.train_mask], dataset.y[dataset.train_mask]).float().mean().item()\n",
    "    val_acc = torch.eq(predictions[dataset.val_mask], dataset.y[dataset.val_mask]).float().mean().item()\n",
    "    test_acc = torch.eq(predictions[dataset.test_mask], dataset.y[dataset.test_mask]).float().mean().item()\n",
    "    \n",
    "    train_accuracies.append(train_acc)\n",
    "    validation_accuracies.append(val_acc)\n",
    "    test_accuracies.append(test_acc)\n",
    "    train_losses.append(train_loss)\n",
    "    \n",
    "    if epoch % 10 == 0 or epoch == epochs - 1:\n",
    "        print(f'Epoch: {epoch:04d}, '\n",
    "              f'Train Loss: {train_loss:.4f}, '\n",
    "              f'Train Accuracy: {train_accuracy:.4f}, '\n",
    "              f'Validation Accuracy: {val_acc:.4f}, '\n",
    "              f'Test Accuracy: {test_acc:.4f}')"
   ]
  },
  {
   "cell_type": "markdown",
   "id": "59d313be-c06b-48f3-bf52-b951a58ad5e8",
   "metadata": {},
   "source": [
    "### **Simple plots**"
   ]
  },
  {
   "cell_type": "code",
   "execution_count": 9,
   "id": "e65c9aac-be85-4a64-ac0e-3bd8836c5094",
   "metadata": {},
   "outputs": [
    {
     "data": {
      "image/png": "[encoded data removed]",
      "text/plain": [
       "<Figure size 1200x500 with 1 Axes>"
      ]
     },
     "metadata": {},
     "output_type": "display_data"
    }
   ],
   "source": [
    "epochs_range = range(epochs)\n",
    "\n",
    "plt.figure(figsize=(12, 5))\n",
    "\n",
    "plt.subplot(1, 2, 1)\n",
    "plt.plot(epochs_range, test_accuracies, label='Test Accuracy', marker='o')\n",
    "plt.title('Test Accuracy over Epochs')\n",
    "plt.xlabel('Epochs')\n",
    "plt.ylabel('Accuracy')\n",
    "plt.legend()\n",
    "\n",
    "# plt.subplot(1, 2, 2)\n",
    "# plt.plot(epochs_range, train_losses, label='Train Loss', marker='o')\n",
    "# plt.title('Train Loss over Epochs')\n",
    "# plt.xlabel('Epochs')\n",
    "# plt.ylabel('Loss')\n",
    "# plt.legend()\n",
    "\n",
    "plt.tight_layout()\n",
    "plt.show()"
   ]
  },
  {
   "cell_type": "code",
   "execution_count": null,
   "id": "f3df1cbd-0a36-4ad5-b020-f5c03e00a853",
   "metadata": {},
   "outputs": [],
   "source": []
  }
 ],
 "metadata": {
  "kernelspec": {
   "display_name": "Python 3 (ipykernel)",
   "language": "python",
   "name": "python3"
  },
  "language_info": {
   "codemirror_mode": {
    "name": "ipython",
    "version": 3
   },
   "file_extension": ".py",
   "mimetype": "text/x-python",
   "name": "python",
   "nbconvert_exporter": "python",
   "pygments_lexer": "ipython3",
   "version": "3.10.14"
  }
 },
 "nbformat": 4,
 "nbformat_minor": 5
}
